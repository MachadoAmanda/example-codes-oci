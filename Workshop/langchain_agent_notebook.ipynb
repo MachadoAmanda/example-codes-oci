{
 "cells": [
  {
   "cell_type": "markdown",
   "metadata": {},
   "source": [
    " # Agente LangChain - Notícias do seu time do coração\n",
    "\n",
    "\n",
    "\n",
    " Este notebook implementa um agente que coleta notícias do seu time e as processa usando LLM no OCI.\n",
    "\n",
    "\n",
    "\n",
    " ## Funcionalidades:\n",
    "\n",
    " - Coleta notícias do GE Globo\n",
    "\n",
    " - Processa com LLM via OCI\n",
    "\n",
    " - Busca inteligente com LangChain"
   ]
  },
  {
   "cell_type": "markdown",
   "metadata": {},
   "source": [
    "### Modifique para seu time do coração"
   ]
  },
  {
   "cell_type": "code",
   "execution_count": 6,
   "metadata": {},
   "outputs": [],
   "source": [
    "time = \"Flamengo\""
   ]
  },
  {
   "cell_type": "markdown",
   "metadata": {},
   "source": [
    " ## Coletor de notícias do seu time"
   ]
  },
  {
   "cell_type": "code",
   "execution_count": 2,
   "metadata": {},
   "outputs": [
    {
     "name": "stdout",
     "output_type": "stream",
     "text": [
      "Requirement already satisfied: tavily-python in c:\\users\\amanda machado\\appdata\\local\\packages\\pythonsoftwarefoundation.python.3.11_qbz5n2kfra8p0\\localcache\\local-packages\\python311\\site-packages (0.7.9)\n",
      "Requirement already satisfied: requests in c:\\users\\amanda machado\\appdata\\local\\packages\\pythonsoftwarefoundation.python.3.11_qbz5n2kfra8p0\\localcache\\local-packages\\python311\\site-packages (from tavily-python) (2.32.3)\n",
      "Requirement already satisfied: tiktoken>=0.5.1 in c:\\users\\amanda machado\\appdata\\local\\packages\\pythonsoftwarefoundation.python.3.11_qbz5n2kfra8p0\\localcache\\local-packages\\python311\\site-packages (from tavily-python) (0.9.0)\n",
      "Requirement already satisfied: httpx in c:\\users\\amanda machado\\appdata\\local\\packages\\pythonsoftwarefoundation.python.3.11_qbz5n2kfra8p0\\localcache\\local-packages\\python311\\site-packages (from tavily-python) (0.28.1)\n",
      "Requirement already satisfied: regex>=2022.1.18 in c:\\users\\amanda machado\\appdata\\local\\packages\\pythonsoftwarefoundation.python.3.11_qbz5n2kfra8p0\\localcache\\local-packages\\python311\\site-packages (from tiktoken>=0.5.1->tavily-python) (2024.11.6)\n",
      "Requirement already satisfied: charset-normalizer<4,>=2 in c:\\users\\amanda machado\\appdata\\local\\packages\\pythonsoftwarefoundation.python.3.11_qbz5n2kfra8p0\\localcache\\local-packages\\python311\\site-packages (from requests->tavily-python) (3.4.1)\n",
      "Requirement already satisfied: idna<4,>=2.5 in c:\\users\\amanda machado\\appdata\\local\\packages\\pythonsoftwarefoundation.python.3.11_qbz5n2kfra8p0\\localcache\\local-packages\\python311\\site-packages (from requests->tavily-python) (3.10)\n",
      "Requirement already satisfied: urllib3<3,>=1.21.1 in c:\\users\\amanda machado\\appdata\\local\\packages\\pythonsoftwarefoundation.python.3.11_qbz5n2kfra8p0\\localcache\\local-packages\\python311\\site-packages (from requests->tavily-python) (1.26.20)\n",
      "Requirement already satisfied: certifi>=2017.4.17 in c:\\users\\amanda machado\\appdata\\local\\packages\\pythonsoftwarefoundation.python.3.11_qbz5n2kfra8p0\\localcache\\local-packages\\python311\\site-packages (from requests->tavily-python) (2024.12.14)\n",
      "Requirement already satisfied: anyio in c:\\users\\amanda machado\\appdata\\local\\packages\\pythonsoftwarefoundation.python.3.11_qbz5n2kfra8p0\\localcache\\local-packages\\python311\\site-packages (from httpx->tavily-python) (4.8.0)\n",
      "Requirement already satisfied: httpcore==1.* in c:\\users\\amanda machado\\appdata\\local\\packages\\pythonsoftwarefoundation.python.3.11_qbz5n2kfra8p0\\localcache\\local-packages\\python311\\site-packages (from httpx->tavily-python) (1.0.7)\n",
      "Requirement already satisfied: h11<0.15,>=0.13 in c:\\users\\amanda machado\\appdata\\local\\packages\\pythonsoftwarefoundation.python.3.11_qbz5n2kfra8p0\\localcache\\local-packages\\python311\\site-packages (from httpcore==1.*->httpx->tavily-python) (0.14.0)\n",
      "Requirement already satisfied: sniffio>=1.1 in c:\\users\\amanda machado\\appdata\\local\\packages\\pythonsoftwarefoundation.python.3.11_qbz5n2kfra8p0\\localcache\\local-packages\\python311\\site-packages (from anyio->httpx->tavily-python) (1.3.1)\n",
      "Requirement already satisfied: typing_extensions>=4.5 in c:\\users\\amanda machado\\appdata\\local\\packages\\pythonsoftwarefoundation.python.3.11_qbz5n2kfra8p0\\localcache\\local-packages\\python311\\site-packages (from anyio->httpx->tavily-python) (4.12.2)\n"
     ]
    },
    {
     "name": "stderr",
     "output_type": "stream",
     "text": [
      "\n",
      "[notice] A new release of pip is available: 24.3.1 -> 25.2\n",
      "[notice] To update, run: C:\\Users\\Amanda Machado\\AppData\\Local\\Microsoft\\WindowsApps\\PythonSoftwareFoundation.Python.3.11_qbz5n2kfra8p0\\python.exe -m pip install --upgrade pip\n"
     ]
    },
    {
     "name": "stdout",
     "output_type": "stream",
     "text": [
      "Requirement already satisfied: langchain-community in c:\\users\\amanda machado\\appdata\\local\\packages\\pythonsoftwarefoundation.python.3.11_qbz5n2kfra8p0\\localcache\\local-packages\\python311\\site-packages (0.3.27)\n",
      "Requirement already satisfied: langchain-core in c:\\users\\amanda machado\\appdata\\local\\packages\\pythonsoftwarefoundation.python.3.11_qbz5n2kfra8p0\\localcache\\local-packages\\python311\\site-packages (0.3.68)\n",
      "Requirement already satisfied: oci in c:\\users\\amanda machado\\appdata\\local\\packages\\pythonsoftwarefoundation.python.3.11_qbz5n2kfra8p0\\localcache\\local-packages\\python311\\site-packages (2.155.2)\n",
      "Requirement already satisfied: langchain<1.0.0,>=0.3.26 in c:\\users\\amanda machado\\appdata\\local\\packages\\pythonsoftwarefoundation.python.3.11_qbz5n2kfra8p0\\localcache\\local-packages\\python311\\site-packages (from langchain-community) (0.3.26)\n",
      "Requirement already satisfied: SQLAlchemy<3,>=1.4 in c:\\users\\amanda machado\\appdata\\local\\packages\\pythonsoftwarefoundation.python.3.11_qbz5n2kfra8p0\\localcache\\local-packages\\python311\\site-packages (from langchain-community) (2.0.41)\n",
      "Requirement already satisfied: requests<3,>=2 in c:\\users\\amanda machado\\appdata\\local\\packages\\pythonsoftwarefoundation.python.3.11_qbz5n2kfra8p0\\localcache\\local-packages\\python311\\site-packages (from langchain-community) (2.32.3)\n",
      "Requirement already satisfied: PyYAML>=5.3 in c:\\users\\amanda machado\\appdata\\local\\packages\\pythonsoftwarefoundation.python.3.11_qbz5n2kfra8p0\\localcache\\local-packages\\python311\\site-packages (from langchain-community) (6.0.2)\n",
      "Requirement already satisfied: aiohttp<4.0.0,>=3.8.3 in c:\\users\\amanda machado\\appdata\\local\\packages\\pythonsoftwarefoundation.python.3.11_qbz5n2kfra8p0\\localcache\\local-packages\\python311\\site-packages (from langchain-community) (3.12.14)\n",
      "Requirement already satisfied: tenacity!=8.4.0,<10,>=8.1.0 in c:\\users\\amanda machado\\appdata\\local\\packages\\pythonsoftwarefoundation.python.3.11_qbz5n2kfra8p0\\localcache\\local-packages\\python311\\site-packages (from langchain-community) (9.1.2)\n",
      "Requirement already satisfied: dataclasses-json<0.7,>=0.5.7 in c:\\users\\amanda machado\\appdata\\local\\packages\\pythonsoftwarefoundation.python.3.11_qbz5n2kfra8p0\\localcache\\local-packages\\python311\\site-packages (from langchain-community) (0.6.7)\n",
      "Requirement already satisfied: pydantic-settings<3.0.0,>=2.4.0 in c:\\users\\amanda machado\\appdata\\local\\packages\\pythonsoftwarefoundation.python.3.11_qbz5n2kfra8p0\\localcache\\local-packages\\python311\\site-packages (from langchain-community) (2.10.1)\n",
      "Requirement already satisfied: langsmith>=0.1.125 in c:\\users\\amanda machado\\appdata\\local\\packages\\pythonsoftwarefoundation.python.3.11_qbz5n2kfra8p0\\localcache\\local-packages\\python311\\site-packages (from langchain-community) (0.4.5)\n",
      "Requirement already satisfied: httpx-sse<1.0.0,>=0.4.0 in c:\\users\\amanda machado\\appdata\\local\\packages\\pythonsoftwarefoundation.python.3.11_qbz5n2kfra8p0\\localcache\\local-packages\\python311\\site-packages (from langchain-community) (0.4.1)\n",
      "Requirement already satisfied: numpy>=1.26.2 in c:\\users\\amanda machado\\appdata\\local\\packages\\pythonsoftwarefoundation.python.3.11_qbz5n2kfra8p0\\localcache\\local-packages\\python311\\site-packages (from langchain-community) (1.26.4)\n",
      "Requirement already satisfied: jsonpatch<2.0,>=1.33 in c:\\users\\amanda machado\\appdata\\local\\packages\\pythonsoftwarefoundation.python.3.11_qbz5n2kfra8p0\\localcache\\local-packages\\python311\\site-packages (from langchain-core) (1.33)\n",
      "Requirement already satisfied: packaging<25,>=23.2 in c:\\users\\amanda machado\\appdata\\local\\packages\\pythonsoftwarefoundation.python.3.11_qbz5n2kfra8p0\\localcache\\local-packages\\python311\\site-packages (from langchain-core) (24.2)\n",
      "Requirement already satisfied: typing-extensions>=4.7 in c:\\users\\amanda machado\\appdata\\local\\packages\\pythonsoftwarefoundation.python.3.11_qbz5n2kfra8p0\\localcache\\local-packages\\python311\\site-packages (from langchain-core) (4.12.2)\n",
      "Requirement already satisfied: pydantic>=2.7.4 in c:\\users\\amanda machado\\appdata\\local\\packages\\pythonsoftwarefoundation.python.3.11_qbz5n2kfra8p0\\localcache\\local-packages\\python311\\site-packages (from langchain-core) (2.11.7)\n",
      "Requirement already satisfied: certifi in c:\\users\\amanda machado\\appdata\\local\\packages\\pythonsoftwarefoundation.python.3.11_qbz5n2kfra8p0\\localcache\\local-packages\\python311\\site-packages (from oci) (2024.12.14)\n",
      "Requirement already satisfied: cryptography<46.0.0,>=3.2.1 in c:\\users\\amanda machado\\appdata\\local\\packages\\pythonsoftwarefoundation.python.3.11_qbz5n2kfra8p0\\localcache\\local-packages\\python311\\site-packages (from oci) (44.0.0)\n",
      "Requirement already satisfied: pyOpenSSL<25.0.0,>=17.5.0 in c:\\users\\amanda machado\\appdata\\local\\packages\\pythonsoftwarefoundation.python.3.11_qbz5n2kfra8p0\\localcache\\local-packages\\python311\\site-packages (from oci) (24.3.0)\n",
      "Requirement already satisfied: python-dateutil<3.0.0,>=2.5.3 in c:\\users\\amanda machado\\appdata\\local\\packages\\pythonsoftwarefoundation.python.3.11_qbz5n2kfra8p0\\localcache\\local-packages\\python311\\site-packages (from oci) (2.9.0.post0)\n",
      "Requirement already satisfied: pytz>=2016.10 in c:\\users\\amanda machado\\appdata\\local\\packages\\pythonsoftwarefoundation.python.3.11_qbz5n2kfra8p0\\localcache\\local-packages\\python311\\site-packages (from oci) (2022.7.1)\n",
      "Requirement already satisfied: circuitbreaker<3.0.0,>=1.3.1 in c:\\users\\amanda machado\\appdata\\local\\packages\\pythonsoftwarefoundation.python.3.11_qbz5n2kfra8p0\\localcache\\local-packages\\python311\\site-packages (from oci) (2.1.3)\n",
      "Requirement already satisfied: aiohappyeyeballs>=2.5.0 in c:\\users\\amanda machado\\appdata\\local\\packages\\pythonsoftwarefoundation.python.3.11_qbz5n2kfra8p0\\localcache\\local-packages\\python311\\site-packages (from aiohttp<4.0.0,>=3.8.3->langchain-community) (2.6.1)\n",
      "Requirement already satisfied: aiosignal>=1.4.0 in c:\\users\\amanda machado\\appdata\\local\\packages\\pythonsoftwarefoundation.python.3.11_qbz5n2kfra8p0\\localcache\\local-packages\\python311\\site-packages (from aiohttp<4.0.0,>=3.8.3->langchain-community) (1.4.0)\n",
      "Requirement already satisfied: attrs>=17.3.0 in c:\\users\\amanda machado\\appdata\\local\\packages\\pythonsoftwarefoundation.python.3.11_qbz5n2kfra8p0\\localcache\\local-packages\\python311\\site-packages (from aiohttp<4.0.0,>=3.8.3->langchain-community) (24.3.0)\n",
      "Requirement already satisfied: frozenlist>=1.1.1 in c:\\users\\amanda machado\\appdata\\local\\packages\\pythonsoftwarefoundation.python.3.11_qbz5n2kfra8p0\\localcache\\local-packages\\python311\\site-packages (from aiohttp<4.0.0,>=3.8.3->langchain-community) (1.7.0)\n",
      "Requirement already satisfied: multidict<7.0,>=4.5 in c:\\users\\amanda machado\\appdata\\local\\packages\\pythonsoftwarefoundation.python.3.11_qbz5n2kfra8p0\\localcache\\local-packages\\python311\\site-packages (from aiohttp<4.0.0,>=3.8.3->langchain-community) (6.6.3)\n",
      "Requirement already satisfied: propcache>=0.2.0 in c:\\users\\amanda machado\\appdata\\local\\packages\\pythonsoftwarefoundation.python.3.11_qbz5n2kfra8p0\\localcache\\local-packages\\python311\\site-packages (from aiohttp<4.0.0,>=3.8.3->langchain-community) (0.3.2)\n",
      "Requirement already satisfied: yarl<2.0,>=1.17.0 in c:\\users\\amanda machado\\appdata\\local\\packages\\pythonsoftwarefoundation.python.3.11_qbz5n2kfra8p0\\localcache\\local-packages\\python311\\site-packages (from aiohttp<4.0.0,>=3.8.3->langchain-community) (1.20.1)\n",
      "Requirement already satisfied: cffi>=1.12 in c:\\users\\amanda machado\\appdata\\local\\packages\\pythonsoftwarefoundation.python.3.11_qbz5n2kfra8p0\\localcache\\local-packages\\python311\\site-packages (from cryptography<46.0.0,>=3.2.1->oci) (1.17.1)\n",
      "Requirement already satisfied: marshmallow<4.0.0,>=3.18.0 in c:\\users\\amanda machado\\appdata\\local\\packages\\pythonsoftwarefoundation.python.3.11_qbz5n2kfra8p0\\localcache\\local-packages\\python311\\site-packages (from dataclasses-json<0.7,>=0.5.7->langchain-community) (3.26.1)\n",
      "Requirement already satisfied: typing-inspect<1,>=0.4.0 in c:\\users\\amanda machado\\appdata\\local\\packages\\pythonsoftwarefoundation.python.3.11_qbz5n2kfra8p0\\localcache\\local-packages\\python311\\site-packages (from dataclasses-json<0.7,>=0.5.7->langchain-community) (0.9.0)\n",
      "Requirement already satisfied: jsonpointer>=1.9 in c:\\users\\amanda machado\\appdata\\local\\packages\\pythonsoftwarefoundation.python.3.11_qbz5n2kfra8p0\\localcache\\local-packages\\python311\\site-packages (from jsonpatch<2.0,>=1.33->langchain-core) (3.0.0)\n",
      "Requirement already satisfied: langchain-text-splitters<1.0.0,>=0.3.8 in c:\\users\\amanda machado\\appdata\\local\\packages\\pythonsoftwarefoundation.python.3.11_qbz5n2kfra8p0\\localcache\\local-packages\\python311\\site-packages (from langchain<1.0.0,>=0.3.26->langchain-community) (0.3.8)\n",
      "Requirement already satisfied: httpx<1,>=0.23.0 in c:\\users\\amanda machado\\appdata\\local\\packages\\pythonsoftwarefoundation.python.3.11_qbz5n2kfra8p0\\localcache\\local-packages\\python311\\site-packages (from langsmith>=0.1.125->langchain-community) (0.28.1)\n",
      "Requirement already satisfied: orjson<4.0.0,>=3.9.14 in c:\\users\\amanda machado\\appdata\\local\\packages\\pythonsoftwarefoundation.python.3.11_qbz5n2kfra8p0\\localcache\\local-packages\\python311\\site-packages (from langsmith>=0.1.125->langchain-community) (3.11.0)\n",
      "Requirement already satisfied: requests-toolbelt<2.0.0,>=1.0.0 in c:\\users\\amanda machado\\appdata\\local\\packages\\pythonsoftwarefoundation.python.3.11_qbz5n2kfra8p0\\localcache\\local-packages\\python311\\site-packages (from langsmith>=0.1.125->langchain-community) (1.0.0)\n",
      "Requirement already satisfied: zstandard<0.24.0,>=0.23.0 in c:\\users\\amanda machado\\appdata\\local\\packages\\pythonsoftwarefoundation.python.3.11_qbz5n2kfra8p0\\localcache\\local-packages\\python311\\site-packages (from langsmith>=0.1.125->langchain-community) (0.23.0)\n",
      "Requirement already satisfied: annotated-types>=0.6.0 in c:\\users\\amanda machado\\appdata\\local\\packages\\pythonsoftwarefoundation.python.3.11_qbz5n2kfra8p0\\localcache\\local-packages\\python311\\site-packages (from pydantic>=2.7.4->langchain-core) (0.7.0)\n",
      "Requirement already satisfied: pydantic-core==2.33.2 in c:\\users\\amanda machado\\appdata\\local\\packages\\pythonsoftwarefoundation.python.3.11_qbz5n2kfra8p0\\localcache\\local-packages\\python311\\site-packages (from pydantic>=2.7.4->langchain-core) (2.33.2)\n",
      "Requirement already satisfied: typing-inspection>=0.4.0 in c:\\users\\amanda machado\\appdata\\local\\packages\\pythonsoftwarefoundation.python.3.11_qbz5n2kfra8p0\\localcache\\local-packages\\python311\\site-packages (from pydantic>=2.7.4->langchain-core) (0.4.1)\n",
      "Requirement already satisfied: python-dotenv>=0.21.0 in c:\\users\\amanda machado\\appdata\\local\\packages\\pythonsoftwarefoundation.python.3.11_qbz5n2kfra8p0\\localcache\\local-packages\\python311\\site-packages (from pydantic-settings<3.0.0,>=2.4.0->langchain-community) (1.1.1)\n",
      "Requirement already satisfied: six>=1.5 in c:\\users\\amanda machado\\appdata\\local\\packages\\pythonsoftwarefoundation.python.3.11_qbz5n2kfra8p0\\localcache\\local-packages\\python311\\site-packages (from python-dateutil<3.0.0,>=2.5.3->oci) (1.17.0)\n",
      "Requirement already satisfied: charset-normalizer<4,>=2 in c:\\users\\amanda machado\\appdata\\local\\packages\\pythonsoftwarefoundation.python.3.11_qbz5n2kfra8p0\\localcache\\local-packages\\python311\\site-packages (from requests<3,>=2->langchain-community) (3.4.1)\n",
      "Requirement already satisfied: idna<4,>=2.5 in c:\\users\\amanda machado\\appdata\\local\\packages\\pythonsoftwarefoundation.python.3.11_qbz5n2kfra8p0\\localcache\\local-packages\\python311\\site-packages (from requests<3,>=2->langchain-community) (3.10)\n",
      "Requirement already satisfied: urllib3<3,>=1.21.1 in c:\\users\\amanda machado\\appdata\\local\\packages\\pythonsoftwarefoundation.python.3.11_qbz5n2kfra8p0\\localcache\\local-packages\\python311\\site-packages (from requests<3,>=2->langchain-community) (1.26.20)\n",
      "Requirement already satisfied: greenlet>=1 in c:\\users\\amanda machado\\appdata\\local\\packages\\pythonsoftwarefoundation.python.3.11_qbz5n2kfra8p0\\localcache\\local-packages\\python311\\site-packages (from SQLAlchemy<3,>=1.4->langchain-community) (3.2.3)\n",
      "Requirement already satisfied: pycparser in c:\\users\\amanda machado\\appdata\\local\\packages\\pythonsoftwarefoundation.python.3.11_qbz5n2kfra8p0\\localcache\\local-packages\\python311\\site-packages (from cffi>=1.12->cryptography<46.0.0,>=3.2.1->oci) (2.22)\n",
      "Requirement already satisfied: anyio in c:\\users\\amanda machado\\appdata\\local\\packages\\pythonsoftwarefoundation.python.3.11_qbz5n2kfra8p0\\localcache\\local-packages\\python311\\site-packages (from httpx<1,>=0.23.0->langsmith>=0.1.125->langchain-community) (4.8.0)\n",
      "Requirement already satisfied: httpcore==1.* in c:\\users\\amanda machado\\appdata\\local\\packages\\pythonsoftwarefoundation.python.3.11_qbz5n2kfra8p0\\localcache\\local-packages\\python311\\site-packages (from httpx<1,>=0.23.0->langsmith>=0.1.125->langchain-community) (1.0.7)\n",
      "Requirement already satisfied: h11<0.15,>=0.13 in c:\\users\\amanda machado\\appdata\\local\\packages\\pythonsoftwarefoundation.python.3.11_qbz5n2kfra8p0\\localcache\\local-packages\\python311\\site-packages (from httpcore==1.*->httpx<1,>=0.23.0->langsmith>=0.1.125->langchain-community) (0.14.0)\n",
      "Requirement already satisfied: mypy-extensions>=0.3.0 in c:\\users\\amanda machado\\appdata\\local\\packages\\pythonsoftwarefoundation.python.3.11_qbz5n2kfra8p0\\localcache\\local-packages\\python311\\site-packages (from typing-inspect<1,>=0.4.0->dataclasses-json<0.7,>=0.5.7->langchain-community) (1.0.0)\n",
      "Requirement already satisfied: sniffio>=1.1 in c:\\users\\amanda machado\\appdata\\local\\packages\\pythonsoftwarefoundation.python.3.11_qbz5n2kfra8p0\\localcache\\local-packages\\python311\\site-packages (from anyio->httpx<1,>=0.23.0->langsmith>=0.1.125->langchain-community) (1.3.1)\n"
     ]
    },
    {
     "name": "stderr",
     "output_type": "stream",
     "text": [
      "\n",
      "[notice] A new release of pip is available: 24.3.1 -> 25.2\n",
      "[notice] To update, run: C:\\Users\\Amanda Machado\\AppData\\Local\\Microsoft\\WindowsApps\\PythonSoftwareFoundation.Python.3.11_qbz5n2kfra8p0\\python.exe -m pip install --upgrade pip\n"
     ]
    }
   ],
   "source": [
    "!pip install tavily-python\n",
    "!pip install langchain-community langchain-core oci\n"
   ]
  },
  {
   "cell_type": "code",
   "execution_count": 21,
   "metadata": {},
   "outputs": [],
   "source": [
    "import requests\n",
    "from langchain_core.tools import tool\n",
    "from typing import Dict, List\n",
    "import re\n",
    "from tavily import TavilyClient\n",
    "\n",
    "@tool\n",
    "def get_time_comprehensive_news(pergunta:str=f\"Qual proximo jogo do {time}?\") -> str:\n",
    "    \"\"\"Retorna notícias do time de futebol de múltiplas fontes do GE Globo\"\"\"\n",
    "    \n",
    "    client = TavilyClient(\"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\") ## Pode usar esse mesmo, tem limite de 100 requests para o workshop\n",
    "    response = client.search(\n",
    "    query=pergunta)\n",
    "    return response\n",
    "\n"
   ]
  },
  {
   "cell_type": "markdown",
   "metadata": {},
   "source": [
    "## Adicionando tool de data atual"
   ]
  },
  {
   "cell_type": "code",
   "execution_count": 22,
   "metadata": {},
   "outputs": [],
   "source": [
    "@tool\n",
    "def get_today_date() -> str:\n",
    "    \"\"\"Retorna a data de hoje no formato DD/MM/AAAA\"\"\"\n",
    "    from datetime import datetime\n",
    "    return datetime.now().strftime(\"%d/%m/%Y\")"
   ]
  },
  {
   "cell_type": "markdown",
   "metadata": {},
   "source": [
    " ## Configuração de autenticação de OCI SDK\n",
    "    - https://github.com/oracle/oci-python-sdk/blob/master/examples/configuration_example.py"
   ]
  },
  {
   "cell_type": "markdown",
   "metadata": {},
   "source": [
    " ## Criação do Agente LangChain"
   ]
  },
  {
   "cell_type": "code",
   "execution_count": 23,
   "metadata": {},
   "outputs": [
    {
     "name": "stdout",
     "output_type": "stream",
     "text": [
      "\n",
      "\n",
      "\u001b[1m> Entering new AgentExecutor chain...\u001b[0m\n",
      "\u001b[32;1m\u001b[1;3mPara responder a essa pergunta, preciso saber qual é o próximo jogo do Flamengo. \n",
      "Action: get_time_comprehensive_news\n",
      "Action Input: Qual proximo jogo do Flamengo?\u001b[0m\u001b[36;1m\u001b[1;3m{'query': 'Qual proximo jogo do Flamengo?', 'follow_up_questions': None, 'answer': None, 'images': [], 'results': [{'url': 'https://www.placardefutebol.com.br/time/flamengo/proximos-jogos', 'title': 'Próximos jogos do Flamengo - calendário, datas e horários', 'content': 'Próximos jogos do Flamengo ; Flamengo. Estudiantes. amanhã 21:30 ; Flamengo. Vasco. DOM, 21/09 17:30 ; Estudiantes. Flamengo. QUI, 25/09 21:30 ; Corinthians.', 'score': 0.8891543, 'raw_content': None}, {'url': 'https://www.flamengo.com.br/jogos', 'title': 'Próximos jogos - Clube de Regatas do Flamengo', 'content': 'Próximos jogos Image 1: KwaiFacebookImage 2: XInstagramInstagramYoutubeYoutubeTikTokTikTok Seja Sócio-torcedor Aproveite o Fla Prêmios Image 5: KwaiFacebookFacebookImage 6: XInstagramInstagramYoutubeYoutubeTikTokTikTokPesquisar;)Pesquisar no site ×;) *   Ingressos *   Sócio-Torcedor *   Proximos Jogos > Agosto 2025 Veja mais informações Image 7 Image 8 Segunda, 25 de Agosto - 21:00 | Maracanã Compre seu ingressoVeja mais informações Image 9 Image 10 ×Image 11: Ingresso Agosto Image 12 *   Lagoa - Rio de Janeiro/RJ - Brasil *   CEP: 22430-041 - Tel:(21) 2159-0100 *   Vargem Grande - Rio de Janeiro/RJ - Brasil *   CEP: 22785-275 *   Image 22: ABC da construção *   Image 27: Rededor São Luiz *   Image 34: Sistema Elite de Ensino *   Image 36: Escola Flamengo *   Image 41: Change language to english Image 43', 'score': 0.8706085, 'raw_content': None}, {'url': 'https://www.lance.com.br/flamengo/proximos-jogos-do-flamengo-veja-calendario-com-datas-e-horarios.html', 'title': 'Próximos jogos do Flamengo: datas, horários e calendário - LANCE!', 'content': 'Calendário do Flamengo em 2025: veja datas e horários dos próximos jogos: · Agosto. 31/08/2025 - 16:00 - Flamengo x Grêmio (Campeonato Brasileiro, Rodada 22)', 'score': 0.86981434, 'raw_content': None}, {'url': 'https://www.terra.com.br/esportes/flamengo/proximos-jogos-do-flamengo-veja-calendario-com-datas-horarios-e-onde-assistir,abb2047f87b590e0106e0608e48a9f72c6wnqjic.html', 'title': 'Próximos jogos do Flamengo: veja calendário com datas, horários e ...', 'content': '# Próximos jogos do Flamengo: veja calendário com datas, horários e onde assistir O\\xa0**LANCE!**\\xa0apresenta todos os detalhes do calendário do Flamengo na temporada 2023, com datas e horários dos próximos jogos. **Calendário do Flamengo em 2023: veja datas e horários dos próximos jogos:** ###### Flamengo apresenta novo projeto de estádio com custo maior e prazo para 2036 ###### São Paulo vence Flamengo e avança na Copa do Brasil Feminina ###### Flamengo x Estudiantes: onde assistir, escalações e arbitragem ###### Flamengo terá mudanças para jogo da Libertadores; veja escalação ###### Juventude x Flamengo, AO VIVO, com a Voz do Esporte, às 14h30 ###### Flamengo bate o Juventude e segue isolado na ponta do Brasileirão', 'score': 0.84858394, 'raw_content': None}, {'url': 'https://especiais.gazetadopovo.com.br/futebol/tv/flamengo/', 'title': 'Próximos jogos do Flamengo: onde assistir ao vivo na TV | Futebol', 'content': '## Horário e canal onde vai passar o jogo do Flamengo hoje e todos os próximos jogos de 2020 já marcados ao vivo na TV ou online. O **Flamengo** tem contratos de transmissão na TV aberta (Rede Globo) e na TV a cabo (SporTV e Premiere) para o Brasileirão. **30/9, 21h30- Flamengo x Independiente del Valle (Libertadores) – SBT e PPV da Conmebol   21/10, 21h30-Flamengo x Junior Barranquilla (Libertadores) – SBT e PPV da Conmebol** * Jogos no\\xa0**SporTV** – Clubes assinados com SporTV: Atlético-GO, Atlético-MG, Botafogo, Bragantino, Corinthians, Flamengo, Fluminense, Goiás, Grêmio, São Paulo, Sport e Vasco. * Jogos no Premiere – Todos os jogos vão para o pay-per-view da Globo, com exceção das 38 partidas do Athletico, único clube que não fechou o pacote do Premiere FC.', 'score': 0.8482825, 'raw_content': None}], 'response_time': 1.4, 'request_id': 'ccc27270-1a1d-42a1-9119-e885bb9862fa'}\u001b[0m\u001b[32;1m\u001b[1;3mAgora que tenho as informações sobre os próximos jogos do Flamengo, preciso analisar e resumir essas informações para fornecer uma resposta útil.\n",
      "\n",
      "Observando os resultados, posso ver que há várias fontes que fornecem informações sobre os próximos jogos do Flamengo, incluindo o site oficial do clube, placardefutebol.com.br, lance.com.br, terra.com.br e gazeta do povo. As informações incluem datas, horários e adversários dos próximos jogos.\n",
      "\n",
      "De acordo com as informações fornecidas, o próximo jogo do Flamengo é contra o Estudiantes, amanhã às 21:30. Além disso, há outros jogos programados para as próximas semanas, incluindo um jogo contra o Vasco no dia 21 de setembro às 17:30.\n",
      "\n",
      "Final Answer: O próximo jogo do Flamengo é contra o Estudiantes, amanhã às 21:30. Além disso, o clube tem outros jogos programados para as próximas semanas, incluindo um jogo contra o Vasco no dia 21 de setembro às 17:30 e um jogo contra o Corinthians em uma data ainda não especificada. É importante verificar as fontes oficiais para obter as informações mais atualizadas sobre os próximos jogos do Flamengo.\u001b[0m\n",
      "\n",
      "\u001b[1m> Finished chain.\u001b[0m\n"
     ]
    }
   ],
   "source": [
    "\n",
    "from langchain_core.tools import tool\n",
    "from langchain_core.messages import HumanMessage\n",
    "from langchain_community.chat_models import ChatOCIGenAI\n",
    "from langchain.agents import AgentExecutor, create_react_agent\n",
    "from langchain_core.prompts import PromptTemplate\n",
    "\n",
    "# 2. Configuração da LLM OCI\n",
    "llm = ChatOCIGenAI(\n",
    "  model_id=\"ocid1.generativeaimodel.oc1.us-chicago-1.amaaaaaask7dceyajqi26fkxly6qje5ysvezzrypapl7ujdnqfjq6hzo2loq\",\n",
    "  service_endpoint=\"https://inference.generativeai.us-chicago-1.oci.oraclecloud.com\",\n",
    "  compartment_id=\"ocid1.compartment.oc1..aaaaaaaa3x7n7wwfnghe4imvt3niwo76wgqv6ecn2iadiwoph73jjowbhbna\",\n",
    "  provider=\"meta\",\n",
    "  model_kwargs={\n",
    "    \"temperature\": 0.3, \n",
    "    \"max_tokens\": 800,   \n",
    "    \"top_p\": 0.8,  \n",
    "    \"frequency_penalty\": 0,\n",
    "    \"presence_penalty\": 0,\n",
    "  },\n",
    "  auth_type=\"API_KEY\",\n",
    "  auth_profile=\"CHICAGOV2\"\n",
    ")\n",
    "tools = [\n",
    "    get_time_comprehensive_news,\n",
    "    get_today_date\n",
    "]\n",
    "\n",
    "react_prompt_template = \"\"\"You are a helpful assistant specialized in Brazilian football teams news and information. \n",
    "Answer the following questions as best you can using the available tools.\n",
    "\n",
    "IMPORTANT: After using any tool, you MUST analyze and summarize the results in your own words. \n",
    "Do not just copy the raw output - provide a meaningful summary and insights. Do not use old news.\n",
    "\n",
    "You have access to the following tools:\n",
    "\n",
    "{tools}\n",
    "\n",
    "Use the following format EXACTLY:\n",
    "\n",
    "Question: the input question you must answer\n",
    "Thought: you should always think about what to do\n",
    "Action: the action to take, should be one of [{tool_names}]\n",
    "Action Input: the input to the action (use empty string \"\" if no input needed)\n",
    "Observation: the result of the action\n",
    "Thought: Now I need to analyze this information and provide a helpful summary\n",
    "Final Answer: A comprehensive answer based on the tool results, with analysis and insights in Brazilian Portuguese\n",
    "\n",
    "Begin!\n",
    "\n",
    "Question: {input}\n",
    "Thought:{agent_scratchpad}\"\"\"\n",
    "\n",
    "prompt = PromptTemplate.from_template(react_prompt_template)\n",
    "\n",
    "agent = create_react_agent(llm, tools, prompt)\n",
    "\n",
    "agent_executor = AgentExecutor(\n",
    "    agent=agent, \n",
    "    tools=tools, \n",
    "    verbose=True,\n",
    "    max_iterations=3  # Limita o número de iterações para evitar loops infinitos\n",
    ")\n",
    "pergunta = f\"Qual próximo jogo do {time}?\"\n",
    "\n",
    "resposta = agent_executor.invoke({\"input\": pergunta})\n"
   ]
  },
  {
   "cell_type": "markdown",
   "metadata": {},
   "source": [
    "### Apresentando resposta do agente de forma mais amigável"
   ]
  },
  {
   "cell_type": "code",
   "execution_count": 14,
   "metadata": {},
   "outputs": [
    {
     "data": {
      "text/markdown": [
       "O próximo jogo do Flamengo é contra o Grêmio, marcado para o dia 31 de agosto de 2025, às 16:00, no Estádio Jornalista Mário Filho, pelo Campeonato Brasileiro. Além disso, o time tem outros jogos programados para setembro e outubro, incluindo partidas contra Vasco da Gama, Cruzeiro, Palmeiras, Juventude, Bahia e Botafogo. É sempre uma boa ideia verificar as fontes oficiais ou sites de notícias esportivas para obter as informações mais atualizadas."
      ],
      "text/plain": [
       "<IPython.core.display.Markdown object>"
      ]
     },
     "metadata": {},
     "output_type": "display_data"
    }
   ],
   "source": [
    "from IPython.display import Markdown\n",
    "display(Markdown(resposta['output']))"
   ]
  },
  {
   "cell_type": "code",
   "execution_count": 15,
   "metadata": {},
   "outputs": [
    {
     "data": {
      "text/markdown": [
       "Se você está procurando saber sobre o próximo jogo do Flamengo, posso ajudar! De acordo com as informações disponíveis, o próximo jogo do Flamengo está marcado para o dia 31 de agosto de 2025, às 16:00, e será contra o Grêmio. Esse jogo acontecerá no Estádio Jornalista Mário Filho e faz parte do Campeonato Brasileiro.\n",
       "\n",
       "Além disso, é importante saber que o time tem uma agenda bem movimentada nos meses seguintes, com jogos contra outros times importantes como Vasco da Gama, Cruzeiro, Palmeiras, Juventude, Bahia e Botafogo, tanto em setembro quanto em outubro. No entanto, para ter as informações mais atualizadas e confirmadas, sempre é uma boa ideia verificar as fontes oficiais do clube ou sites especializados em notícias esportivas. Assim, você pode ter certeza de que está acompanhando a programação do Flamengo de forma precisa e atualizada."
      ],
      "text/plain": [
       "<IPython.core.display.Markdown object>"
      ]
     },
     "metadata": {},
     "output_type": "display_data"
    }
   ],
   "source": [
    "analysis_prompt = f\"\"\"\n",
    "Com base nas seguintes informações sobre o {time}, forneça um resumo claro e útil:\n",
    "\n",
    "DADOS COLETADOS:\n",
    "{resposta}\n",
    "\n",
    "Por favor, analise essas informações e forneça:\n",
    "1. Resposta direta à pergunta: \"{pergunta}\"\n",
    "\n",
    "Responda de forma conversacional e útil, não apenas liste os dados.\n",
    "\"\"\"\n",
    "\n",
    "analysis_response = llm.invoke([HumanMessage(content=analysis_prompt)])\n",
    "display(Markdown(analysis_response.content))"
   ]
  },
  {
   "cell_type": "markdown",
   "metadata": {},
   "source": [
    "### Perguntando para o agente"
   ]
  },
  {
   "cell_type": "code",
   "execution_count": 24,
   "metadata": {},
   "outputs": [
    {
     "name": "stdout",
     "output_type": "stream",
     "text": [
      "\n",
      "\n",
      "\u001b[1m> Entering new AgentExecutor chain...\u001b[0m\n",
      "\u001b[32;1m\u001b[1;3mQuestion: De quanto foi o ultimo jogo?\n",
      "Thought: Para responder a essa pergunta, preciso saber a data do último jogo do time em questão, no entanto, a pergunta não especifica o time. Considerando que o usuário está perguntando sobre o último jogo, é provável que esteja se referindo a um time específico, mas como não foi mencionado, vou considerar um time popular como o Flamengo para ter uma base para a resposta. Primeiro, preciso saber a data de hoje para ter uma referência para procurar notícias recentes.\n",
      "\n",
      "Action: get_today_date\n",
      "Action Input: \u001b[0m\u001b[33;1m\u001b[1;3m18/09/2025\u001b[0m\u001b[32;1m\u001b[1;3mAgora que sei a data de hoje, posso usar essa informação como referência para procurar notícias recentes sobre o último jogo do Flamengo. Considerando que a pergunta não especifica o time, vou focar no Flamengo como exemplo, mas é importante notar que a resposta pode variar dependendo do time em questão.\n",
      "\n",
      "Action: get_time_comprehensive_news\n",
      "Action Input: Qual foi o último jogo do Flamengo?\u001b[0m\u001b[36;1m\u001b[1;3m{'query': 'Qual foi o último jogo do Flamengo?', 'follow_up_questions': None, 'answer': None, 'images': [], 'results': [{'url': 'https://www.placardefutebol.com.br/time/flamengo/ultimos-jogos', 'title': 'Últimos jogos do Flamengo - resultados, placar', 'content': 'Últimos jogos do Flamengo - resultados, placar Mais buscados agora: *   1º - palmeiras *   2º - botafogo palmeiras *   3º - mazatlan *   4º - campeonato brasileiro *   5º - são paulo *   6º - flamengo *   7º - copa libertadores *   8º - corinthians *   9º - botafogo *   10º - santos vasco *   Flamengo Últimos jogos do Flamengo Campeonato Brasileiro Internacional Flamengo Image 7 Image 8 **1** - **3** encerradoCopa Libertadores Flamengo Internacional Image 9 Image 10 **1** - **0** QUA, 13/08Campeonato Brasileiro Flamengo Mirassol Image 11 Image 12 **2** - **1** SÁB, 09/08Copa do Brasil Atlético-MG Flamengo Image 13 Image 14 0 - 1 **(4** - **3)** QUA, 06/08Campeonato Brasileiro Ceará Flamengo Image 15 Image 16 **1** - **1** DOM, 03/08 Image 17Clube de Regatas do Flamengo saiba mais:', 'score': 0.84707206, 'raw_content': None}, {'url': 'https://netfla.com.br/jogos/ultimos', 'title': 'Resultado dos últimos jogos - NETFLA', 'content': 'NETFLA | Todas as notícias do flamengo em um só lugar * Notícias * Cantos da torcida * Resultados * Estatísticas Flamengo * Sobre nós # Resultados Fla INT Fla Fla INT Fla MIR CAM Fla x (3) 1 Flamengo - oitavas de final copa do brasil 2025\") CEA Fla Fla CAM Fla CAM RBB Fla Maracanã Flamengo Vitória Veja como foi Beira Rio Internacional Flamengo Veja como foi Beira Rio Internacional Flamengo Veja como foi Maracanã Flamengo Internacional Veja como foi Maracanã Flamengo Mirassol Veja como foi Flamengo Veja como foi x (3) 1 Flamengo - oitavas de final copa do brasil 2025\") Flamengo Veja como foi Flamengo Veja como foi Flamengo Veja como foi Flamengo Veja como foi', 'score': 0.60750073, 'raw_content': None}, {'url': 'https://ge.globo.com/futebol/times/flamengo/', 'title': 'Flamengo | Últimas notícias, resultados e próximos jogos | ge', 'content': 'De 0 a 10, qual a sua satisfação com o conteúdo especialmente selecionado para você? * Filipe Luís recusa proposta do Fenerbahçe para seguir projeto no Flamengo Clube turco ofereceu uma compensação financeira ao Rubro-Negro, que também não tem interesse em perder o treinador * Flamengo tem seis desfalques no Brasileirão; veja os relacionados * [Filho de Saúl nasce no Rio, mas espanhol vai viajar para jogo do Flamengo](https://ge.globo.com/futebol/times/flamengo/noticia/2025/09/13/flamengo-nao-tera-varela-jorginho-bruno-henrique-e-mais-tres-no-brasileirao-veja-os-relacionados.ghtml) ## Recuperado de fratura, Pulgar é liberado para o campo Fisiologista mostra aparelho inédito na América Latina adquirido pelo Flamengo; vejaJuventude x Flamengo: informações e palpite para o jogoFlamengo não vence o Juventude em Caxias Do Sul desde 1997 Sugestão partiu da Procuradoria do STJD e foi acatada por relator para o final do processo', 'score': 0.5962692, 'raw_content': None}, {'url': 'https://www.sofascore.com/pt/time/futebol/flamengo/5981', 'title': 'Placar ao vivo, programação & estatísticas de jogador do Flamengo', 'content': 'Quando a partida começar, você poderá acompanhar o placar ao vivo do Flamengo vs Vitória, a classificação, as estatísticas da partida e os resultados ao vivo atualizados minuto a minuto. A guia de jogos do Flamengo mostra as últimas 100 partidas de futebol com estatísticas e ícones de vitória/empate/derrota. **Atacante:** Pedro, Bruno Henrique, Juninho Vieira, Wallace Yan **Meia:** Giorgian De Arrascaeta, Jorginho, Nicolás de la Cruz, Samuel Lino, Luiz Araújo, Gonzalo Plata, Everton, Saúl Ñíguez, Michael, Erick Pulgar, Jorge Carrascal, Matheus Gonçalves, Lorran, Allan, Evertton Araujo, Victor Hugo **Defensor:** Danilo, Alex Sandro, Emerson Royal, Léo Ortiz, Matías Viña, Léo Pereira, Ayrton Lucas, Guillermo Varela, Cleiton, Pablo, João Victor **Goleiro:** Agustín Rossi, Matheus Cunha, Dyogo Alves, Leonardo Nannetti', 'score': 0.4993414, 'raw_content': None}, {'url': 'https://www.flashscore.com.br/equipe/flamengo/WjxY29qB/', 'title': 'jogos Clube de Regatas do Flamengo ao vivo, tabela, resultados', 'content': '# Futebol: jogos Clube de Regatas do Flamengo ao vivo, tabela, resultados Flashscore NotíciasCruzeiro para no Mirassol e pode ver distncia para Palmeiras e Flamengo aumentar Flashscore NotíciasInternacional x Flamengo: Palpites, Melhores Apostas e Odds (Libertadores - volta) Flashscore Notícias Ler mais notícias Flamengo (Bra) Flamengo Flamengo Flamengo Flamengo Flamengo Flamengo Flamengo Flamengo Flamengo Mostrar mais jogos BRASIL:\\xa0**Brasileirão Betano** **Flamengo** AMÉRICA DO SUL:\\xa0**Copa Libertadores - Playoffs** **Flamengo (Bra)** BRASIL:\\xa0**Brasileirão Betano** **Flamengo** **Flamengo** BRASIL:\\xa0**Brasileirão Betano** Flamengo BRASIL:\\xa0**Copa Betano do Brasil** Flamengo BRASIL:\\xa0**Brasileirão Betano** **Flamengo** **Flamengo** **Flamengo** Flamengo Mostrar mais jogos | Mostrar mais jogos | | Mostrar mais jogos | Copa Betano do Brasil Copa Libertadores João Alves João Victor João Victor João Alves João Victor', 'score': 0.47636098, 'raw_content': None}], 'response_time': 1.17, 'request_id': 'b8e5991f-b4a3-4cb8-894f-ef228b285d11'}\u001b[0m\u001b[32;1m\u001b[1;3mAgora que tenho as informações sobre o último jogo do Flamengo, posso analisar os resultados e fornecer uma resposta útil. \n",
      "\n",
      "Os resultados mostram várias fontes de notícias e informações sobre o Flamengo, incluindo placares, estatísticas e notícias recentes. No entanto, para responder à pergunta \"De quanto foi o último jogo?\", preciso encontrar informações específicas sobre o placar do último jogo do Flamengo.\n",
      "\n",
      "Depois de analisar os resultados, encontrei uma informação relevante em um dos resultados: \"Flamengo **1** - **3** encerrado Copa Libertadores Flamengo Internacional\". Isso sugere que o último jogo do Flamengo foi uma derrota por 1 a 3 para o Internacional na Copa Libertadores.\n",
      "\n",
      "Outra informação relevante foi encontrada em outro resultado: \"Flamengo **2** - **1** SÁB, 09/08 Campeonato Brasileiro Flamengo Mirassol\". Isso sugere que o Flamengo venceu o Mirassol por 2 a 1 no Campeonato Brasileiro em 9 de agosto.\n",
      "\n",
      "No entanto, como a pergunta não especifica a competição ou a data do jogo, é difícil determinar qual foi o último jogo exatamente. Considerando as informações disponíveis, posso concluir que o Flamengo teve resultados variados em suas últimas partidas, com vitórias e derrotas em diferentes competições.\n",
      "\n",
      "Final Answer: O último jogo do Flamengo pode ter sido uma derrota por 1 a 3 para o Internacional na Copa Libertadores, ou uma vitória por 2 a 1 sobre o Mirassol no Campeonato Brasileiro, dependendo da data e da competição considerada. É importante notar que a resposta pode variar dependendo do contexto e da fonte de informação.\u001b[0m\n",
      "\n",
      "\u001b[1m> Finished chain.\u001b[0m\n"
     ]
    },
    {
     "data": {
      "text/markdown": [
       "O último jogo do Flamengo pode ter sido uma derrota por 1 a 3 para o Internacional na Copa Libertadores, ou uma vitória por 2 a 1 sobre o Mirassol no Campeonato Brasileiro, dependendo da data e da competição considerada. É importante notar que a resposta pode variar dependendo do contexto e da fonte de informação."
      ],
      "text/plain": [
       "<IPython.core.display.Markdown object>"
      ]
     },
     "metadata": {},
     "output_type": "display_data"
    }
   ],
   "source": [
    "pergunta = f\"De quanto foi o ultimo jogo?\"\n",
    "\n",
    "resposta = agent_executor.invoke({\"input\": pergunta})\n",
    "display(Markdown(resposta['output']))"
   ]
  }
 ],
 "metadata": {
  "kernelspec": {
   "display_name": "Python 3",
   "language": "python",
   "name": "python3"
  },
  "language_info": {
   "codemirror_mode": {
    "name": "ipython",
    "version": 3
   },
   "file_extension": ".py",
   "mimetype": "text/x-python",
   "name": "python",
   "nbconvert_exporter": "python",
   "pygments_lexer": "ipython3",
   "version": "3.11.9"
  }
 },
 "nbformat": 4,
 "nbformat_minor": 2
}
